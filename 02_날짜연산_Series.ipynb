{
 "cells": [
  {
   "cell_type": "code",
   "execution_count": 18,
   "metadata": {},
   "outputs": [],
   "source": [
    "import pandas as pd\n",
    "from datetime import datetime, timedelta"
   ]
  },
  {
   "cell_type": "code",
   "execution_count": 4,
   "metadata": {},
   "outputs": [
    {
     "data": {
      "text/plain": [
       "0    20201101\n",
       "1    20201102\n",
       "2    20201103\n",
       "3    20201104\n",
       "4    20201105\n",
       "dtype: object"
      ]
     },
     "execution_count": 4,
     "metadata": {},
     "output_type": "execute_result"
    }
   ],
   "source": [
    "dates = ['20201101','20201102', '20201103', '20201104', '20201105']\n",
    "date_Series = pd.Series(dates)\n",
    "date_Series"
   ]
  },
  {
   "cell_type": "code",
   "execution_count": 5,
   "metadata": {},
   "outputs": [
    {
     "data": {
      "text/plain": [
       "dtype('O')"
      ]
     },
     "execution_count": 5,
     "metadata": {},
     "output_type": "execute_result"
    }
   ],
   "source": [
    "date_Series.dtypes"
   ]
  },
  {
   "cell_type": "code",
   "execution_count": 7,
   "metadata": {},
   "outputs": [
    {
     "data": {
      "text/plain": [
       "0   2020-11-01\n",
       "1   2020-11-02\n",
       "2   2020-11-03\n",
       "3   2020-11-04\n",
       "4   2020-11-05\n",
       "dtype: datetime64[ns]"
      ]
     },
     "execution_count": 7,
     "metadata": {},
     "output_type": "execute_result"
    }
   ],
   "source": [
    "pd.to_datetime(date_Series)"
   ]
  },
  {
   "cell_type": "code",
   "execution_count": 9,
   "metadata": {},
   "outputs": [
    {
     "data": {
      "text/plain": [
       "DatetimeIndex(['2020-11-01', '2020-11-03', '2020-11-05', '2020-11-07',\n",
       "               '2020-11-09', '2020-11-11', '2020-11-13', '2020-11-15',\n",
       "               '2020-11-17', '2020-11-19', '2020-11-21', '2020-11-23',\n",
       "               '2020-11-25', '2020-11-27', '2020-11-29'],\n",
       "              dtype='datetime64[ns]', freq='2D')"
      ]
     },
     "execution_count": 9,
     "metadata": {},
     "output_type": "execute_result"
    }
   ],
   "source": [
    "pd.date_range('2020-11-01', '2020-11-30', freq = '2d')"
   ]
  },
  {
   "cell_type": "code",
   "execution_count": 10,
   "metadata": {},
   "outputs": [
    {
     "data": {
      "text/plain": [
       "DatetimeIndex(['2020-11-30', '2020-12-31', '2021-01-31', '2021-02-28',\n",
       "               '2021-03-31', '2021-04-30', '2021-05-31', '2021-06-30',\n",
       "               '2021-07-31', '2021-08-31', '2021-09-30', '2021-10-31',\n",
       "               '2021-11-30'],\n",
       "              dtype='datetime64[ns]', freq='M')"
      ]
     },
     "execution_count": 10,
     "metadata": {},
     "output_type": "execute_result"
    }
   ],
   "source": [
    "pd.date_range('2020-11-01', '2021-11-30', freq = 'M')"
   ]
  },
  {
   "cell_type": "code",
   "execution_count": 13,
   "metadata": {},
   "outputs": [
    {
     "data": {
      "text/plain": [
       "0   2020-11-30\n",
       "1   2020-12-31\n",
       "2   2021-01-31\n",
       "3   2021-02-28\n",
       "4   2021-03-31\n",
       "5   2021-04-30\n",
       "6   2021-05-31\n",
       "7   2021-06-30\n",
       "8   2021-07-31\n",
       "9   2021-08-31\n",
       "dtype: datetime64[ns]"
      ]
     },
     "execution_count": 13,
     "metadata": {},
     "output_type": "execute_result"
    }
   ],
   "source": [
    "pd.Series(pd.date_range('2020-11-01', periods = 10, freq = 'M'))"
   ]
  },
  {
   "cell_type": "code",
   "execution_count": 20,
   "metadata": {},
   "outputs": [
    {
     "data": {
      "text/plain": [
       "0    2020-10-31\n",
       "1    2020-11-02\n",
       "2    2020-11-04\n",
       "3    2020-11-06\n",
       "4    2020-11-08\n",
       "5    2020-11-10\n",
       "6    2020-11-12\n",
       "7    2020-11-14\n",
       "8    2020-11-16\n",
       "9    2020-11-18\n",
       "10   2020-11-20\n",
       "11   2020-11-22\n",
       "12   2020-11-24\n",
       "13   2020-11-26\n",
       "14   2020-11-28\n",
       "dtype: datetime64[ns]"
      ]
     },
     "execution_count": 20,
     "metadata": {},
     "output_type": "execute_result"
    }
   ],
   "source": [
    "date_series = pd.Series(pd.date_range('2020-11-01', '2020-11-30', freq = '2d'))\n",
    "\n",
    "date_series - timedelta(days = 1)"
   ]
  },
  {
   "cell_type": "code",
   "execution_count": 26,
   "metadata": {},
   "outputs": [
    {
     "name": "stdout",
     "output_type": "stream",
     "text": [
      "0     0 days\n",
      "1     1 days\n",
      "2     2 days\n",
      "3     3 days\n",
      "4     4 days\n",
      "5     5 days\n",
      "6     6 days\n",
      "7     7 days\n",
      "8     8 days\n",
      "9     9 days\n",
      "10   10 days\n",
      "11   11 days\n",
      "12   12 days\n",
      "13   13 days\n",
      "14   14 days\n",
      "dtype: timedelta64[ns]\n"
     ]
    }
   ],
   "source": [
    "date_series_1 = pd.Series(pd.date_range('2020-11-01', '2020-11-30', freq = '2d'))\n",
    "date_series_2 = pd.Series(pd.date_range('2020-11-01', periods = 15, freq = 'd'))\n",
    "\n",
    "print(date_series_1 - date_series_2)"
   ]
  },
  {
   "cell_type": "code",
   "execution_count": null,
   "metadata": {},
   "outputs": [],
   "source": []
  }
 ],
 "metadata": {
  "kernelspec": {
   "display_name": "Python 3",
   "language": "python",
   "name": "python3"
  },
  "language_info": {
   "codemirror_mode": {
    "name": "ipython",
    "version": 3
   },
   "file_extension": ".py",
   "mimetype": "text/x-python",
   "name": "python",
   "nbconvert_exporter": "python",
   "pygments_lexer": "ipython3",
   "version": "3.7.4"
  }
 },
 "nbformat": 4,
 "nbformat_minor": 2
}
